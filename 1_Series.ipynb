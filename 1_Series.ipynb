{
  "cells": [
    {
      "cell_type": "code",
      "execution_count": 1,
      "metadata": {
        "id": "7NN3UiFmEUcG"
      },
      "outputs": [],
      "source": [
        "    # Series is a one-dimensional labeled array capable of holding data of any type\n",
        "        # (integer,string, float, python objects, etc.).\n",
        "        # The axis labels are collectively called index.\n",
        "\n",
        "    # Key Points :\n",
        "        # Homogeneous data\n",
        "        # Size Immutable\n",
        "        # Values of Data Mutable\n",
        "\n",
        "    # pandas.Series\n",
        "        # A pandas Series can be created using the following constructor:\n",
        "            # pandas.DataFrame( data, index, dtype, copy)"
      ]
    },
    {
      "cell_type": "code",
      "execution_count": 2,
      "metadata": {
        "id": "gMbY-SU0EUcJ"
      },
      "outputs": [],
      "source": [
        "        # The parameters of the constructor are as follows:\n",
        "            # data : data takes various forms like ndarray, list, constants\n",
        "            # index : Index values must be unique and hashable, same length as data.\n",
        "            # Default np.arrange(n) if no index is passed.\n",
        "            # dtype : dtype is for data type. If None, data type will be inferred\n",
        "            # copy : Copy data. Default False"
      ]
    },
    {
      "cell_type": "code",
      "execution_count": 3,
      "metadata": {
        "id": "RVrhtwVREUcK"
      },
      "outputs": [],
      "source": [
        "    # A series can be created using various inputs like:\n",
        "        # Array\n",
        "        # Dict\n",
        "        # Scalar value or constant"
      ]
    },
    {
      "cell_type": "code",
      "execution_count": 4,
      "metadata": {
        "id": "ggHTOTYlEUcL"
      },
      "outputs": [],
      "source": [
        "import pandas as pd\n",
        "import numpy as np"
      ]
    },
    {
      "cell_type": "markdown",
      "metadata": {
        "id": "aazhk57rEUcL"
      },
      "source": [
        "Create an Empty Series"
      ]
    },
    {
      "cell_type": "code",
      "execution_count": 5,
      "metadata": {
        "colab": {
          "base_uri": "https://localhost:8080/"
        },
        "id": "-3punCSKEUcN",
        "outputId": "f96debd6-04af-47a2-be62-fbeffa517269"
      },
      "outputs": [
        {
          "output_type": "stream",
          "name": "stdout",
          "text": [
            "Series([], dtype: object)\n"
          ]
        }
      ],
      "source": [
        "s =pd.Series()\n",
        "print(s)"
      ]
    },
    {
      "cell_type": "markdown",
      "metadata": {
        "id": "cY6vkHQrEUcO"
      },
      "source": [
        "Create a Series from ndarray<br>\n",
        "If no index is passed,then by default index will be range(n) where n is array length, i.e., [0,1,2,3….range(len(array))-1]"
      ]
    },
    {
      "cell_type": "code",
      "execution_count": 6,
      "metadata": {
        "colab": {
          "base_uri": "https://localhost:8080/"
        },
        "id": "CcbBUIHJEUcO",
        "outputId": "66c235f2-ef53-498e-95a6-cf8a64116cbe"
      },
      "outputs": [
        {
          "output_type": "stream",
          "name": "stdout",
          "text": [
            "0    a\n",
            "1    b\n",
            "2    c\n",
            "3    d\n",
            "4    e\n",
            "dtype: object\n"
          ]
        }
      ],
      "source": [
        "data = np.array(['a','b','c','d','e'])\n",
        "s = pd.Series(data)\n",
        "print(s)"
      ]
    },
    {
      "cell_type": "markdown",
      "metadata": {
        "id": "qkjMyrNdEUcP"
      },
      "source": [
        "import the pandas library and aliasing as pd"
      ]
    },
    {
      "cell_type": "code",
      "execution_count": 7,
      "metadata": {
        "colab": {
          "base_uri": "https://localhost:8080/"
        },
        "id": "uVoJqtIiEUcP",
        "outputId": "f18d0148-c76e-48eb-c6d6-9e33e6cb6e2a"
      },
      "outputs": [
        {
          "output_type": "stream",
          "name": "stdout",
          "text": [
            "101    a\n",
            "102    b\n",
            "103    c\n",
            "104    d\n",
            "dtype: object\n"
          ]
        }
      ],
      "source": [
        "data = np.array(['a','b','c','d'])\n",
        "s = pd.Series(data,index=[101,102,103,104])\n",
        "print(s)"
      ]
    },
    {
      "cell_type": "markdown",
      "metadata": {
        "id": "90GnifP6EUcQ"
      },
      "source": [
        "Create a Series from dict"
      ]
    },
    {
      "cell_type": "code",
      "execution_count": 8,
      "metadata": {
        "colab": {
          "base_uri": "https://localhost:8080/"
        },
        "id": "AOp0IAUqEUcR",
        "outputId": "cfc47724-dda4-40e5-ca1d-a5d5ab743203"
      },
      "outputs": [
        {
          "output_type": "stream",
          "name": "stdout",
          "text": [
            "age             50\n",
            "name        Dipika\n",
            "occ     home maker\n",
            "dtype: object\n"
          ]
        }
      ],
      "source": [
        "data = {'age':50 , 'name':'Dipika', 'occ':'home maker'}\n",
        "s = pd.Series(data)\n",
        "print(s)"
      ]
    },
    {
      "cell_type": "markdown",
      "metadata": {
        "id": "tGprRD2oEUcR"
      },
      "source": [
        "Create a Series from dict"
      ]
    },
    {
      "cell_type": "code",
      "execution_count": 9,
      "metadata": {
        "colab": {
          "base_uri": "https://localhost:8080/"
        },
        "id": "E3SLH_WDEUcR",
        "outputId": "953b8305-5e79-435c-af89-07870ae0dca6"
      },
      "outputs": [
        {
          "output_type": "stream",
          "name": "stdout",
          "text": [
            "name        Dipika\n",
            "occ     home maker\n",
            "dtype: object\n"
          ]
        }
      ],
      "source": [
        "data = { 'name':'Dipika', 'occ':'home maker'}\n",
        "s = pd.Series(data)\n",
        "print(s)"
      ]
    },
    {
      "cell_type": "markdown",
      "metadata": {
        "id": "F3I77PBYEUcS"
      },
      "source": [
        "Adding multiple dict to series"
      ]
    },
    {
      "cell_type": "code",
      "execution_count": 10,
      "metadata": {
        "colab": {
          "base_uri": "https://localhost:8080/"
        },
        "id": "od1MaCdSEUcS",
        "outputId": "74beaefe-9700-4d49-9a0d-63dd83ac5d06"
      },
      "outputs": [
        {
          "output_type": "stream",
          "name": "stdout",
          "text": [
            "a    1\n",
            "b    2\n",
            "c    3\n",
            "d    4\n",
            "e    5\n",
            "f    6\n",
            "g    7\n",
            "h    8\n",
            "i    9\n",
            "dtype: int64\n"
          ]
        }
      ],
      "source": [
        "dict1 = {'a': 1, 'b': 2, 'c': 3}\n",
        "dict2 = {'d': 4, 'e': 5, 'f': 6}\n",
        "dict3 = {'g': 7, 'h': 8, 'i': 9}\n",
        "series1 = pd.Series(dict1)\n",
        "series2 = pd.Series(dict2)\n",
        "series3 = pd.Series(dict3)\n",
        "combined_series = pd.concat([series1, series2, series3])\n",
        "print(combined_series)"
      ]
    },
    {
      "cell_type": "markdown",
      "metadata": {
        "id": "9cC7MF4ZEUcS"
      },
      "source": [
        "Adding list of dict to series"
      ]
    },
    {
      "cell_type": "code",
      "execution_count": 11,
      "metadata": {
        "colab": {
          "base_uri": "https://localhost:8080/"
        },
        "id": "VxrxtT_jEUcS",
        "outputId": "728e9390-45f9-4e3c-d1c1-e4d89b02e076"
      },
      "outputs": [
        {
          "output_type": "stream",
          "name": "stdout",
          "text": [
            "0    {'a': 1, 'b': 2, 'c': 3}\n",
            "1    {'d': 4, 'e': 5, 'f': 6}\n",
            "2    {'g': 7, 'h': 8, 'i': 9}\n",
            "dtype: object\n"
          ]
        }
      ],
      "source": [
        "list_of_dicts = [{'a': 1, 'b': 2, 'c': 3},\n",
        "                 {'d': 4, 'e': 5, 'f': 6},\n",
        "                 {'g': 7, 'h': 8, 'i': 9}]\n",
        "series = pd.Series(list_of_dicts)\n",
        "print(series)"
      ]
    },
    {
      "cell_type": "markdown",
      "metadata": {
        "id": "jNqLd5l-EUcT"
      },
      "source": [
        "This will create a Pandas Series where each element is a dictionary from your list. If you want to combine all dictionaries into a single Series, you can do the following:<br>\n",
        "Combine all dictionaries into a single dictionary"
      ]
    },
    {
      "cell_type": "code",
      "execution_count": 12,
      "metadata": {
        "colab": {
          "base_uri": "https://localhost:8080/"
        },
        "id": "Iw99D1DfEUcT",
        "outputId": "d22040aa-2f62-439d-c3a9-cc5021667171"
      },
      "outputs": [
        {
          "output_type": "stream",
          "name": "stdout",
          "text": [
            "a    1\n",
            "b    2\n",
            "c    3\n",
            "d    4\n",
            "e    5\n",
            "f    6\n",
            "g    7\n",
            "h    8\n",
            "i    9\n",
            "dtype: int64\n"
          ]
        }
      ],
      "source": [
        "combined_dict = {k: v for d in list_of_dicts for k, v in d.items()}\n",
        "# Convert the combined dictionary into a Pandas Series\n",
        "combined_series = pd.Series(combined_dict)\n",
        "print(combined_series)"
      ]
    },
    {
      "cell_type": "markdown",
      "metadata": {
        "id": "3rpG7BTZEUcT"
      },
      "source": [
        "import the pandas library and aliasing as pd<br>\n",
        "Note : z and l does not have value present in index list, so considered NaN"
      ]
    },
    {
      "cell_type": "code",
      "execution_count": 13,
      "metadata": {
        "colab": {
          "base_uri": "https://localhost:8080/"
        },
        "id": "B53sW83TEUcU",
        "outputId": "1be751c8-f45f-4b77-c1f4-33c38f5c9087"
      },
      "outputs": [
        {
          "output_type": "stream",
          "name": "stdout",
          "text": [
            "b    1.0\n",
            "c    2.0\n",
            "z    NaN\n",
            "l    NaN\n",
            "dtype: float64\n"
          ]
        }
      ],
      "source": [
        "data = {'a':0. ,'b':1.0,'c':2}\n",
        "s = pd.Series(data,index=['b','c','z','l'])\n",
        "print(s)"
      ]
    },
    {
      "cell_type": "markdown",
      "metadata": {
        "id": "zYQMJR8DEUcU"
      },
      "source": [
        "Create a Series from Scalar"
      ]
    },
    {
      "cell_type": "code",
      "execution_count": 14,
      "metadata": {
        "colab": {
          "base_uri": "https://localhost:8080/"
        },
        "id": "E6vAwc_1EUcU",
        "outputId": "7611328c-ef05-4250-93e5-d941fedcd310"
      },
      "outputs": [
        {
          "output_type": "stream",
          "name": "stdout",
          "text": [
            "0    5\n",
            "1    5\n",
            "2    5\n",
            "3    5\n",
            "dtype: int64\n"
          ]
        }
      ],
      "source": [
        "s = pd.Series(5, index=[0, 1, 2, 3])\n",
        "print(s)"
      ]
    },
    {
      "cell_type": "markdown",
      "metadata": {
        "id": "Pf-AvIFkEUcU"
      },
      "source": [
        "Accessing Data from Series with Position"
      ]
    },
    {
      "cell_type": "code",
      "execution_count": 15,
      "metadata": {
        "colab": {
          "base_uri": "https://localhost:8080/"
        },
        "id": "Ex3b-v5wEUcV",
        "outputId": "06a8c90c-d3fc-494c-c069-b5e90c1ffba9"
      },
      "outputs": [
        {
          "output_type": "stream",
          "name": "stdout",
          "text": [
            "3\n"
          ]
        }
      ],
      "source": [
        "s=pd.Series([1,2,3,4,5],index=['a','b','c','d','e'])\n",
        "print(s[2])"
      ]
    },
    {
      "cell_type": "markdown",
      "metadata": {
        "id": "i-br5wNZEUcV"
      },
      "source": [
        "Retrieve the first three elements in the Series"
      ]
    },
    {
      "cell_type": "code",
      "execution_count": 16,
      "metadata": {
        "colab": {
          "base_uri": "https://localhost:8080/"
        },
        "id": "ltiYHbkqEUcV",
        "outputId": "bf51b364-38fe-4c11-f1d1-6bc72c258c4a"
      },
      "outputs": [
        {
          "output_type": "stream",
          "name": "stdout",
          "text": [
            "a    1\n",
            "b    2\n",
            "c    3\n",
            "dtype: int64\n"
          ]
        }
      ],
      "source": [
        "s=pd.Series([1,2,3,4,5],index=['a','b','c','d','e'])\n",
        "#retrieve the first three element\n",
        "print(s[:3])"
      ]
    },
    {
      "cell_type": "markdown",
      "metadata": {
        "id": "FJn1-mUDEUcV"
      },
      "source": [
        "Retrieve the last three elements in the Series"
      ]
    },
    {
      "cell_type": "code",
      "execution_count": 17,
      "metadata": {
        "colab": {
          "base_uri": "https://localhost:8080/"
        },
        "id": "et8mr-1_EUcW",
        "outputId": "c20609f4-c03b-485a-aac5-be51dfed5e96"
      },
      "outputs": [
        {
          "output_type": "stream",
          "name": "stdout",
          "text": [
            "c    3\n",
            "d    4\n",
            "e    5\n",
            "dtype: int64\n"
          ]
        }
      ],
      "source": [
        "s=pd.Series([1,2,3,4,5],index=['a','b','c','d','e'])\n",
        "#retrieve the first three element\n",
        "print(s[-3:])"
      ]
    },
    {
      "cell_type": "markdown",
      "metadata": {
        "id": "JhXtM8vGEUcW"
      },
      "source": [
        "Retrieve Data Using Label (Index)"
      ]
    },
    {
      "cell_type": "code",
      "execution_count": 18,
      "metadata": {
        "colab": {
          "base_uri": "https://localhost:8080/"
        },
        "id": "AK51N28wEUcW",
        "outputId": "d56a1ed3-73b6-4e32-d961-8491270b9640"
      },
      "outputs": [
        {
          "output_type": "stream",
          "name": "stdout",
          "text": [
            "1\n"
          ]
        }
      ],
      "source": [
        "s=pd.Series([1,2,3,4,5],index=['a','b','c','d','e'])\n",
        "#retrieve a single element\n",
        "print(s['a'])"
      ]
    },
    {
      "cell_type": "markdown",
      "metadata": {
        "id": "6flU4lIJEUcW"
      },
      "source": [
        "Retrieve multiple elements using a list of index label values.<br>\n",
        "If a label is not contained, an exception is raised."
      ]
    },
    {
      "cell_type": "code",
      "execution_count": 19,
      "metadata": {
        "colab": {
          "base_uri": "https://localhost:8080/"
        },
        "id": "H1Egrzi8EUcX",
        "outputId": "a55bd8e0-1d22-4477-add6-89e165485d96"
      },
      "outputs": [
        {
          "output_type": "stream",
          "name": "stdout",
          "text": [
            "a    1\n",
            "c    3\n",
            "d    4\n",
            "dtype: int64\n"
          ]
        }
      ],
      "source": [
        "s=pd.Series([1,2,3,4,5],index=['a','b','c','d','e'])\n",
        "#retrieve multiple elements\n",
        "print(s[['a','c','d']])"
      ]
    }
  ],
  "metadata": {
    "kernelspec": {
      "display_name": "Python 3",
      "language": "python",
      "name": "python3"
    },
    "language_info": {
      "codemirror_mode": {
        "name": "ipython",
        "version": 3
      },
      "file_extension": ".py",
      "mimetype": "text/x-python",
      "name": "python",
      "nbconvert_exporter": "python",
      "pygments_lexer": "ipython3",
      "version": "3.6.4"
    },
    "colab": {
      "provenance": []
    }
  },
  "nbformat": 4,
  "nbformat_minor": 0
}
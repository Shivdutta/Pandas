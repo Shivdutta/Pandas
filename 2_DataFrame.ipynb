{
  "cells": [
    {
      "cell_type": "code",
      "execution_count": 1,
      "metadata": {
        "id": "-57q9tooER7B"
      },
      "outputs": [],
      "source": [
        "    # A Data frame is a two-dimensional data structure, i.e., data is aligned in a tabular fashion in rows and columns.\n",
        "\n",
        "    # Features of DataFrame\n",
        "        # Potentially columns are of different types\n",
        "        # Size – Mutable\n",
        "        # Labeled axes (rows and columns)\n",
        "        # Can Perform Arithmetic operations on rows and columns\n",
        "\n",
        "    # A pandas DataFrame can be created using various inputs like:\n",
        "        # Lists\n",
        "        # dict\n",
        "        # Series\n",
        "        # Numpy ndarrays\n",
        "        # Another DataFrame"
      ]
    },
    {
      "cell_type": "markdown",
      "metadata": {
        "id": "HUbyL7KxER7H"
      },
      "source": [
        "Create an Empty DataFrame"
      ]
    },
    {
      "cell_type": "code",
      "execution_count": 2,
      "metadata": {
        "colab": {
          "base_uri": "https://localhost:8080/"
        },
        "id": "y0CbHcdQER7J",
        "outputId": "b8b790ac-2f17-44aa-fcc0-20c8ce128b46"
      },
      "outputs": [
        {
          "output_type": "stream",
          "name": "stdout",
          "text": [
            "Empty DataFrame\n",
            "Columns: []\n",
            "Index: []\n"
          ]
        }
      ],
      "source": [
        "import pandas as pd\n",
        "df = pd.DataFrame()\n",
        "print(df)"
      ]
    },
    {
      "cell_type": "markdown",
      "metadata": {
        "id": "vTlkjH5dER7J"
      },
      "source": [
        "Create a DataFrame from Lists"
      ]
    },
    {
      "cell_type": "code",
      "execution_count": 3,
      "metadata": {
        "colab": {
          "base_uri": "https://localhost:8080/"
        },
        "id": "OiXOTn0wER7K",
        "outputId": "85e29cca-00f6-4e50-f492-f0cdad5ab615"
      },
      "outputs": [
        {
          "output_type": "stream",
          "name": "stdout",
          "text": [
            "   0\n",
            "0  1\n",
            "1  2\n",
            "2  3\n",
            "3  4\n",
            "4  5\n"
          ]
        }
      ],
      "source": [
        "data = [1,2,3,4,5]\n",
        "df = pd.DataFrame(data)\n",
        "print(df)"
      ]
    },
    {
      "cell_type": "markdown",
      "metadata": {
        "id": "wgRUlJgbER7K"
      },
      "source": [
        "Dtype List :<br>\n",
        "int64: 64-bit integer<br>\n",
        "float64: 64-bit floating point<br>\n",
        "bool: Boolean values (True or False)<br>\n",
        "datetime64[ns]: Date and time<br>\n",
        "timedelta[ns]: Difference between two datetime values<br>\n",
        "object: Generic type (usually for strings or mixed types)<br>\n",
        "category: Categorical data"
      ]
    },
    {
      "cell_type": "markdown",
      "metadata": {
        "id": "P7spo5XvER7L"
      },
      "source": [
        "Create a DataFrame from List of list"
      ]
    },
    {
      "cell_type": "code",
      "execution_count": 4,
      "metadata": {
        "colab": {
          "base_uri": "https://localhost:8080/"
        },
        "id": "ryaaLO3sER7L",
        "outputId": "2db67c56-1dea-4b0d-ae21-2152f013071d"
      },
      "outputs": [
        {
          "output_type": "stream",
          "name": "stdout",
          "text": [
            "  Name       Occupation\n",
            "0   S1  IT Professional\n",
            "1   D1       Home Maker\n",
            "2   S2          Student\n"
          ]
        }
      ],
      "source": [
        "data = [['S1','IT Professional'],['D1','Home Maker'],['S2','Student']]\n",
        "df = pd.DataFrame(data,columns=['Name','Occupation'],dtype=object)\n",
        "print(df)"
      ]
    },
    {
      "cell_type": "markdown",
      "metadata": {
        "id": "1dghqkQ6ER7M"
      },
      "source": [
        "Create a DataFrame from Dict of ndarrays / Lists"
      ]
    },
    {
      "cell_type": "code",
      "execution_count": 5,
      "metadata": {
        "colab": {
          "base_uri": "https://localhost:8080/"
        },
        "id": "VkWCTpRjER7M",
        "outputId": "9fa11341-ed7c-43a4-e841-5a65bdc6461b"
      },
      "outputs": [
        {
          "output_type": "stream",
          "name": "stdout",
          "text": [
            "  Name    Occupation\n",
            "0   S1  Data Science\n",
            "1   D1    Home Maker\n",
            "2   S2       Student\n"
          ]
        }
      ],
      "source": [
        "data = {'Name':['S1', 'D1', 'S2'],\n",
        "'Occupation':['Data Science','Home Maker','Student']}\n",
        "df= pd.DataFrame(data)\n",
        "print(df)"
      ]
    },
    {
      "cell_type": "markdown",
      "metadata": {
        "id": "xkItmmoqER7M"
      },
      "source": [
        "Create an indexed DataFrame using arrays."
      ]
    },
    {
      "cell_type": "code",
      "execution_count": 6,
      "metadata": {
        "colab": {
          "base_uri": "https://localhost:8080/"
        },
        "id": "Pk_ivXlLER7N",
        "outputId": "f9ccb896-3133-4653-d6bf-f43ed177b5d4"
      },
      "outputs": [
        {
          "output_type": "stream",
          "name": "stdout",
          "text": [
            "      Name        Occupation\n",
            "ind_1   S1  Machine Learning\n",
            "ind_2   D1        Home Maker\n",
            "ind_3   S2           Student\n"
          ]
        }
      ],
      "source": [
        "data = {'Name':['S1', 'D1', 'S2'],\n",
        "'Occupation':['Machine Learning','Home Maker','Student']}\n",
        "df= pd.DataFrame(data,index=['ind_1','ind_2','ind_3'])\n",
        "print(df)"
      ]
    },
    {
      "cell_type": "markdown",
      "metadata": {
        "id": "5prUM7bbER7N"
      },
      "source": [
        "Create a DataFrame from List of Dicts"
      ]
    },
    {
      "cell_type": "code",
      "execution_count": 7,
      "metadata": {
        "colab": {
          "base_uri": "https://localhost:8080/"
        },
        "id": "Fy4Jg6YtER7N",
        "outputId": "e3e9473d-38dd-43ed-cb97-8c827f7fe28f"
      },
      "outputs": [
        {
          "output_type": "stream",
          "name": "stdout",
          "text": [
            "      Name  Occupation\n",
            "ind_1   S1         LLM\n",
            "ind_2   D1  Home Maker\n",
            "ind_3   S2         LLM\n"
          ]
        }
      ],
      "source": [
        "data = [{\"Name\":\"S1\", \"Occupation\": \"LLM\"},{\"Name\":\"D1\", \"Occupation\": \"Home Maker\"},{\"Name\":\"S2\", \"Occupation\": \"LLM\"}]\n",
        "df= pd.DataFrame(data,index=['ind_1','ind_2','ind_3'])\n",
        "print(df)"
      ]
    },
    {
      "cell_type": "markdown",
      "metadata": {
        "id": "Pf_e_nkYER7N"
      },
      "source": [
        "create a DataFrame with a list of dictionaries, row indices, and column indices."
      ]
    },
    {
      "cell_type": "code",
      "execution_count": 8,
      "metadata": {
        "colab": {
          "base_uri": "https://localhost:8080/"
        },
        "id": "P-9mdPNHER7N",
        "outputId": "3bacc040-02a0-4a01-cd8f-0cb280853c88"
      },
      "outputs": [
        {
          "output_type": "stream",
          "name": "stdout",
          "text": [
            "        a   b\n",
            "first   1   2\n",
            "second  5  10\n",
            "        a  b1\n",
            "first   1 NaN\n",
            "second  5 NaN\n"
          ]
        }
      ],
      "source": [
        "data = [{'a': 1, 'b': 2},  {'a': 5, 'b': 10, 'c': 20}]\n",
        "# With two column indices, values same as dictionary keys\n",
        "df1 = pd.DataFrame(data, index=['first', 'second'], columns=['a', 'b'])\n",
        "# With two column indices with one index with other name\n",
        "df2 = pd.DataFrame(data, index=['first', 'second'], columns=['a', 'b1'])\n",
        "print(df1)\n",
        "print(df2)  # Not b1 is not present in dictionary, so the values are null"
      ]
    },
    {
      "cell_type": "markdown",
      "metadata": {
        "id": "TUoPaANpER7O"
      },
      "source": [
        "Create a DataFrame from Dict of Series"
      ]
    },
    {
      "cell_type": "code",
      "execution_count": 9,
      "metadata": {
        "colab": {
          "base_uri": "https://localhost:8080/"
        },
        "id": "AlYbm6AmER7O",
        "outputId": "5324d011-de9f-4306-fa5a-b796a1bb15bf"
      },
      "outputs": [
        {
          "output_type": "stream",
          "name": "stdout",
          "text": [
            "   one  two\n",
            "a  1.0    1\n",
            "b  2.0    2\n",
            "c  3.0    3\n",
            "d  NaN    4\n"
          ]
        }
      ],
      "source": [
        "d ={'one': pd.Series([1,2,3],index=['a','b','c']),\n",
        "    'two':pd.Series([1,2,3,4],index=['a','b','c','d'])}\n",
        "df = pd.DataFrame(d)\n",
        "print(df)"
      ]
    },
    {
      "cell_type": "markdown",
      "metadata": {
        "id": "0sGZ5xpSER7O"
      },
      "source": [
        "Column Selection"
      ]
    },
    {
      "cell_type": "code",
      "execution_count": 10,
      "metadata": {
        "colab": {
          "base_uri": "https://localhost:8080/"
        },
        "id": "ZPKfFLJWER7O",
        "outputId": "5ebd0e6b-6555-49e5-ad04-b6a89cc5a1d7"
      },
      "outputs": [
        {
          "output_type": "stream",
          "name": "stdout",
          "text": [
            "a    1.0\n",
            "b    2.0\n",
            "c    3.0\n",
            "d    NaN\n",
            "Name: one, dtype: float64\n"
          ]
        }
      ],
      "source": [
        "d = {'one' : pd.Series([1, 2, 3], index=['a', 'b', 'c']),\n",
        "'two' : pd.Series([1, 2, 3, 4], index=['a', 'b', 'c', 'd'])}\n",
        "df = pd.DataFrame(d)\n",
        "print(df ['one'])"
      ]
    },
    {
      "cell_type": "markdown",
      "metadata": {
        "id": "NxA6ICcIER7O"
      },
      "source": [
        "Column Addition"
      ]
    },
    {
      "cell_type": "code",
      "execution_count": 11,
      "metadata": {
        "colab": {
          "base_uri": "https://localhost:8080/"
        },
        "id": "RJ12NvavER7O",
        "outputId": "9fd6bbb9-2c45-41df-8635-3f45428886c2"
      },
      "outputs": [
        {
          "output_type": "stream",
          "name": "stdout",
          "text": [
            "Adding a new column by passing as Series:\n",
            "     Name  Occupation Lives in\n",
            "ind1   S1         LLM   Mumbai\n",
            "ind2   D1  Home Maker   Mumbai\n",
            "ind3   S2         LLM   Mumbai\n"
          ]
        }
      ],
      "source": [
        "d = {'Name' : pd.Series(['S1','D1','S2'], index=['ind1', 'ind2', 'ind3'])  , 'Occupation' : pd.Series(['LLM','Home Maker','LLM'], index=['ind1', 'ind2', 'ind3'])}\n",
        "df = pd.DataFrame(d)\n",
        "# Adding a new column to an existing DataFrame object with column label by passing new series\n",
        "print (\"Adding a new column by passing as Series:\")\n",
        "df['Lives in']=pd.Series(['Mumbai','Mumbai','Mumbai'],index=['ind1', 'ind2', 'ind3'])\n",
        "print(df)\n",
        "# del dataframe['<index_no>'] is used to delete the"
      ]
    },
    {
      "cell_type": "markdown",
      "metadata": {
        "id": "0zi-faB9ER7P"
      },
      "source": [
        "using pop function we can find the column values"
      ]
    },
    {
      "cell_type": "code",
      "execution_count": 12,
      "metadata": {
        "colab": {
          "base_uri": "https://localhost:8080/"
        },
        "id": "APlNXQSoER7P",
        "outputId": "98abaed6-986c-4a1a-bcfd-b8608191dfcb"
      },
      "outputs": [
        {
          "output_type": "stream",
          "name": "stdout",
          "text": [
            "ind1    S1\n",
            "ind2    D1\n",
            "ind3    S2\n",
            "Name: Name, dtype: object\n"
          ]
        }
      ],
      "source": [
        "nam= df.pop('Name')\n",
        "print(nam)"
      ]
    },
    {
      "cell_type": "markdown",
      "metadata": {
        "id": "G5h0fxwXER7P"
      },
      "source": [
        "Slice Rowa"
      ]
    },
    {
      "cell_type": "code",
      "execution_count": 13,
      "metadata": {
        "colab": {
          "base_uri": "https://localhost:8080/"
        },
        "id": "UX9GtmFJER7P",
        "outputId": "37f71092-39ba-4133-ed5f-42f93f3d0fe3"
      },
      "outputs": [
        {
          "output_type": "stream",
          "name": "stdout",
          "text": [
            "      eight  nine\n",
            "c101  301.0   301\n",
            "d101    NaN   401\n"
          ]
        }
      ],
      "source": [
        "d = {'eight' : pd.Series([101, 201, 301], index=['a101', 'b101', 'c101']),\n",
        "'nine' : pd.Series([101, 201, 301, 401], index=['a101', 'b101', 'c101', 'd101'])}\n",
        "df = pd.DataFrame(d)\n",
        "print(df[2:4])"
      ]
    },
    {
      "cell_type": "markdown",
      "metadata": {
        "id": "ooD6nwzrER7P"
      },
      "source": [
        "Addition of Rows<br>\n",
        "Create two sample DataFrames"
      ]
    },
    {
      "cell_type": "code",
      "execution_count": 14,
      "metadata": {
        "colab": {
          "base_uri": "https://localhost:8080/"
        },
        "id": "bIwVXclDER7P",
        "outputId": "ba96d403-7a60-4cf8-d3ab-1b5ecfd31f33"
      },
      "outputs": [
        {
          "output_type": "stream",
          "name": "stdout",
          "text": [
            "  Name Lives In\n",
            "0   S1     Loc1\n",
            "1   D1     Loc1\n",
            "2   S2     Loc1\n"
          ]
        }
      ],
      "source": [
        "df1 = pd.DataFrame([['S1','Loc1' ], ['D1', 'Loc1']], columns=['Name','Lives In'])\n",
        "df2 = pd.DataFrame([['S2', 'Loc1']], columns=['Name','Lives In'])\n",
        "df_combined = pd.concat([df1, df2], axis=0, ignore_index=True)\n",
        "print(df_combined)"
      ]
    },
    {
      "cell_type": "markdown",
      "metadata": {
        "id": "xy987zg0ER7Q"
      },
      "source": [
        "Drop: drop and specify index and axis-0"
      ]
    }
  ],
  "metadata": {
    "kernelspec": {
      "display_name": "Python 3",
      "language": "python",
      "name": "python3"
    },
    "language_info": {
      "codemirror_mode": {
        "name": "ipython",
        "version": 3
      },
      "file_extension": ".py",
      "mimetype": "text/x-python",
      "name": "python",
      "nbconvert_exporter": "python",
      "pygments_lexer": "ipython3",
      "version": "3.6.4"
    },
    "colab": {
      "provenance": []
    }
  },
  "nbformat": 4,
  "nbformat_minor": 0
}